{
 "cells": [
  {
   "cell_type": "markdown",
   "id": "8cf64954",
   "metadata": {},
   "source": [
    "## 사전\n",
    "* dict(사전)는 파이썬 내장 자료구조 중에서 가장 중요\n",
    "\n",
    "\n",
    "* 사전은 유연한 크기를 가지는 키-값 쌍으로, 키와 값은 모두 파이썬 객체.\n",
    "\n",
    "\n",
    "* 사전을 생성하는 방법은 중괄호 {}를 사용하여 콜론으로 구분된 키와 값을 둘러싸는 것이다.\n",
    "\n",
    "\n",
    "* del 예약어 나 pop 메서드를 사용해서 사전의 값을 삭제할 수 있다.\n",
    "\n",
    "\n",
    "* update 메서드를 사용해서 하나의 사전을 다른 사전과 합칠 수 있다."
   ]
  },
  {
   "cell_type": "code",
   "execution_count": 1,
   "id": "f5f061aa",
   "metadata": {
    "ExecuteTime": {
     "end_time": "2021-07-13T02:32:33.078511Z",
     "start_time": "2021-07-13T02:32:33.056569Z"
    }
   },
   "outputs": [
    {
     "data": {
      "text/plain": [
       "{'a': 'some_value', 'b': [1, 2, 3, 4]}"
      ]
     },
     "execution_count": 1,
     "metadata": {},
     "output_type": "execute_result"
    }
   ],
   "source": [
    "empty_dict = {}\n",
    "\n",
    "d1 = {'a':'some_value', 'b':[1, 2, 3, 4]}\n",
    "\n",
    "d1"
   ]
  },
  {
   "cell_type": "code",
   "execution_count": 2,
   "id": "9948eb6a",
   "metadata": {
    "ExecuteTime": {
     "end_time": "2021-07-13T02:33:04.024653Z",
     "start_time": "2021-07-13T02:33:04.014676Z"
    }
   },
   "outputs": [
    {
     "data": {
      "text/plain": [
       "{'a': 'some_value', 'b': [1, 2, 3, 4], 7: 'an integer'}"
      ]
     },
     "execution_count": 2,
     "metadata": {},
     "output_type": "execute_result"
    }
   ],
   "source": [
    "d1[7] = 'an integer'\n",
    "\n",
    "d1"
   ]
  },
  {
   "cell_type": "code",
   "execution_count": 3,
   "id": "02b975e4",
   "metadata": {
    "ExecuteTime": {
     "end_time": "2021-07-13T02:33:28.265746Z",
     "start_time": "2021-07-13T02:33:28.246820Z"
    }
   },
   "outputs": [
    {
     "data": {
      "text/plain": [
       "[1, 2, 3, 4]"
      ]
     },
     "execution_count": 3,
     "metadata": {},
     "output_type": "execute_result"
    }
   ],
   "source": [
    "d1['b']"
   ]
  },
  {
   "cell_type": "code",
   "execution_count": 4,
   "id": "d4dc93b1",
   "metadata": {
    "ExecuteTime": {
     "end_time": "2021-07-13T02:33:48.261659Z",
     "start_time": "2021-07-13T02:33:48.246700Z"
    }
   },
   "outputs": [
    {
     "data": {
      "text/plain": [
       "True"
      ]
     },
     "execution_count": 4,
     "metadata": {},
     "output_type": "execute_result"
    }
   ],
   "source": [
    "# 사전에 어떤 키가 있는 확인하는 것도 가능\n",
    "'b' in d1"
   ]
  },
  {
   "cell_type": "code",
   "execution_count": 6,
   "id": "bf2ae0cf",
   "metadata": {
    "ExecuteTime": {
     "end_time": "2021-07-13T02:35:26.450875Z",
     "start_time": "2021-07-13T02:35:26.430799Z"
    }
   },
   "outputs": [
    {
     "data": {
      "text/plain": [
       "{'a': 'some_value',\n",
       " 'b': [1, 2, 3, 4],\n",
       " 7: 'an integer',\n",
       " 5: 'some_value',\n",
       " 'dummy': 'another value'}"
      ]
     },
     "execution_count": 6,
     "metadata": {},
     "output_type": "execute_result"
    }
   ],
   "source": [
    "# del 예약어 나 pop 메서드를 사용해서 사전의 값을 삭제할 수 있다.\n",
    "d1[5] = 'some_value'\n",
    "d1['dummy'] = 'another value'\n",
    "\n",
    "d1"
   ]
  },
  {
   "cell_type": "code",
   "execution_count": 7,
   "id": "f7a13851",
   "metadata": {
    "ExecuteTime": {
     "end_time": "2021-07-13T02:35:39.806044Z",
     "start_time": "2021-07-13T02:35:39.798067Z"
    }
   },
   "outputs": [
    {
     "data": {
      "text/plain": [
       "{'a': 'some_value',\n",
       " 'b': [1, 2, 3, 4],\n",
       " 7: 'an integer',\n",
       " 'dummy': 'another value'}"
      ]
     },
     "execution_count": 7,
     "metadata": {},
     "output_type": "execute_result"
    }
   ],
   "source": [
    "# del 예약어로 사전의 값을 삭제\n",
    "del d1[5]\n",
    "\n",
    "d1"
   ]
  },
  {
   "cell_type": "code",
   "execution_count": 8,
   "id": "e36a1808",
   "metadata": {
    "ExecuteTime": {
     "end_time": "2021-07-13T02:36:09.015496Z",
     "start_time": "2021-07-13T02:36:09.006521Z"
    }
   },
   "outputs": [
    {
     "data": {
      "text/plain": [
       "{'a': 'some_value', 'b': [1, 2, 3, 4], 7: 'an integer'}"
      ]
     },
     "execution_count": 8,
     "metadata": {},
     "output_type": "execute_result"
    }
   ],
   "source": [
    "# pop 메서드를 사용해서 사전의 값을 삭제\n",
    "d1.pop('dummy')\n",
    "\n",
    "d1"
   ]
  },
  {
   "cell_type": "code",
   "execution_count": 10,
   "id": "7f67efbb",
   "metadata": {
    "ExecuteTime": {
     "end_time": "2021-07-13T02:38:04.847409Z",
     "start_time": "2021-07-13T02:38:04.838434Z"
    }
   },
   "outputs": [
    {
     "data": {
      "text/plain": [
       "{'a': 'some_value', 'b': 'foo', 7: 'an integer', 'c': 12}"
      ]
     },
     "execution_count": 10,
     "metadata": {},
     "output_type": "execute_result"
    }
   ],
   "source": [
    "# update 메서드를 사용해서 하나의 사전을 다른 사전과 합칠 수 있다.\n",
    "d1.update({'b':'foo', 'c':12})\n",
    "\n",
    "d1"
   ]
  },
  {
   "cell_type": "code",
   "execution_count": null,
   "id": "856f46b8",
   "metadata": {},
   "outputs": [],
   "source": []
  }
 ],
 "metadata": {
  "kernelspec": {
   "display_name": "Python 3",
   "language": "python",
   "name": "python3"
  },
  "language_info": {
   "codemirror_mode": {
    "name": "ipython",
    "version": 3
   },
   "file_extension": ".py",
   "mimetype": "text/x-python",
   "name": "python",
   "nbconvert_exporter": "python",
   "pygments_lexer": "ipython3",
   "version": "3.8.9"
  },
  "toc": {
   "base_numbering": 1,
   "nav_menu": {},
   "number_sections": true,
   "sideBar": true,
   "skip_h1_title": false,
   "title_cell": "Table of Contents",
   "title_sidebar": "Contents",
   "toc_cell": false,
   "toc_position": {},
   "toc_section_display": true,
   "toc_window_display": false
  },
  "varInspector": {
   "cols": {
    "lenName": 16,
    "lenType": 16,
    "lenVar": 40
   },
   "kernels_config": {
    "python": {
     "delete_cmd_postfix": "",
     "delete_cmd_prefix": "del ",
     "library": "var_list.py",
     "varRefreshCmd": "print(var_dic_list())"
    },
    "r": {
     "delete_cmd_postfix": ") ",
     "delete_cmd_prefix": "rm(",
     "library": "var_list.r",
     "varRefreshCmd": "cat(var_dic_list()) "
    }
   },
   "types_to_exclude": [
    "module",
    "function",
    "builtin_function_or_method",
    "instance",
    "_Feature"
   ],
   "window_display": false
  }
 },
 "nbformat": 4,
 "nbformat_minor": 5
}
