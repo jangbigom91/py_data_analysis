{
 "cells": [
  {
   "cell_type": "markdown",
   "id": "afd3c388",
   "metadata": {},
   "source": [
    "## 집합\n",
    "* 집합은 유일한 원소만 담는 정렬되지 않은 자료형이다.\n",
    "\n",
    "\n",
    "* 사전과 유사하지만 값은 없고, 키만 가지고 있다고 생각하면 된다.\n",
    "\n",
    "\n",
    "* 집합을 두 가지 방법으로 생성 가능 -> set 함수를 이용하거나, 중괄호{}를 이용해서 생성할 수 있다.\n",
    "\n",
    "\n",
    "* 합집합 -> union 메서드를 사용하거나 이항 연산자 |를 사용해서 두 집합의 합집합을 나타낼 수 있다.\n",
    "\n",
    "\n",
    "* 교집합 -> intersection 메서드를 사용하거나 & 이항 연산자로 구할수 있다."
   ]
  },
  {
   "cell_type": "code",
   "execution_count": 1,
   "id": "59a7f016",
   "metadata": {
    "ExecuteTime": {
     "end_time": "2021-07-13T02:40:35.090416Z",
     "start_time": "2021-07-13T02:40:35.074473Z"
    }
   },
   "outputs": [
    {
     "data": {
      "text/plain": [
       "{1, 2, 3}"
      ]
     },
     "execution_count": 1,
     "metadata": {},
     "output_type": "execute_result"
    }
   ],
   "source": [
    "set([2, 2, 2, 1, 3, 3])"
   ]
  },
  {
   "cell_type": "code",
   "execution_count": 2,
   "id": "03da9e7f",
   "metadata": {
    "ExecuteTime": {
     "end_time": "2021-07-13T02:40:53.678153Z",
     "start_time": "2021-07-13T02:40:53.670196Z"
    }
   },
   "outputs": [
    {
     "data": {
      "text/plain": [
       "set"
      ]
     },
     "execution_count": 2,
     "metadata": {},
     "output_type": "execute_result"
    }
   ],
   "source": [
    "a = {2, 2, 2, 1, 3, 3}\n",
    "type(a)"
   ]
  },
  {
   "cell_type": "code",
   "execution_count": 3,
   "id": "06a5f350",
   "metadata": {
    "ExecuteTime": {
     "end_time": "2021-07-13T02:42:19.760362Z",
     "start_time": "2021-07-13T02:42:19.750386Z"
    }
   },
   "outputs": [
    {
     "data": {
      "text/plain": [
       "{1, 2, 3, 4, 5, 6, 7, 8}"
      ]
     },
     "execution_count": 3,
     "metadata": {},
     "output_type": "execute_result"
    }
   ],
   "source": [
    "# 합집합 -> union 메서드를 사용하거나 이항 연산자 |를 사용해서 두 집합의 합집합을 나타낼 수 있다.\n",
    "a = {1, 2, 3, 4, 5}\n",
    "b = {3, 4, 5, 6, 7, 8}\n",
    "\n",
    "# union 메서드 사용\n",
    "a.union(b)"
   ]
  },
  {
   "cell_type": "code",
   "execution_count": 4,
   "id": "e97d16f6",
   "metadata": {
    "ExecuteTime": {
     "end_time": "2021-07-13T02:42:26.758071Z",
     "start_time": "2021-07-13T02:42:26.742135Z"
    }
   },
   "outputs": [
    {
     "data": {
      "text/plain": [
       "{1, 2, 3, 4, 5, 6, 7, 8}"
      ]
     },
     "execution_count": 4,
     "metadata": {},
     "output_type": "execute_result"
    }
   ],
   "source": [
    "# 이항연산자 | 사용\n",
    "a | b"
   ]
  },
  {
   "cell_type": "code",
   "execution_count": 5,
   "id": "91dbabe5",
   "metadata": {
    "ExecuteTime": {
     "end_time": "2021-07-13T02:44:04.723249Z",
     "start_time": "2021-07-13T02:44:04.710259Z"
    }
   },
   "outputs": [
    {
     "data": {
      "text/plain": [
       "{3, 4, 5}"
      ]
     },
     "execution_count": 5,
     "metadata": {},
     "output_type": "execute_result"
    }
   ],
   "source": [
    "# 교집합 -> intersection 메서드를 사용하거나 & 이항 연산자로 구할수 있다.\n",
    "a.intersection(b)"
   ]
  },
  {
   "cell_type": "code",
   "execution_count": 6,
   "id": "f4addcc3",
   "metadata": {
    "ExecuteTime": {
     "end_time": "2021-07-13T02:44:10.784871Z",
     "start_time": "2021-07-13T02:44:10.773922Z"
    }
   },
   "outputs": [
    {
     "data": {
      "text/plain": [
       "{3, 4, 5}"
      ]
     },
     "execution_count": 6,
     "metadata": {},
     "output_type": "execute_result"
    }
   ],
   "source": [
    "a & b"
   ]
  },
  {
   "cell_type": "code",
   "execution_count": null,
   "id": "ca0d6405",
   "metadata": {},
   "outputs": [],
   "source": []
  }
 ],
 "metadata": {
  "kernelspec": {
   "display_name": "Python 3",
   "language": "python",
   "name": "python3"
  },
  "language_info": {
   "codemirror_mode": {
    "name": "ipython",
    "version": 3
   },
   "file_extension": ".py",
   "mimetype": "text/x-python",
   "name": "python",
   "nbconvert_exporter": "python",
   "pygments_lexer": "ipython3",
   "version": "3.8.9"
  },
  "toc": {
   "base_numbering": 1,
   "nav_menu": {},
   "number_sections": true,
   "sideBar": true,
   "skip_h1_title": false,
   "title_cell": "Table of Contents",
   "title_sidebar": "Contents",
   "toc_cell": false,
   "toc_position": {},
   "toc_section_display": true,
   "toc_window_display": false
  },
  "varInspector": {
   "cols": {
    "lenName": 16,
    "lenType": 16,
    "lenVar": 40
   },
   "kernels_config": {
    "python": {
     "delete_cmd_postfix": "",
     "delete_cmd_prefix": "del ",
     "library": "var_list.py",
     "varRefreshCmd": "print(var_dic_list())"
    },
    "r": {
     "delete_cmd_postfix": ") ",
     "delete_cmd_prefix": "rm(",
     "library": "var_list.r",
     "varRefreshCmd": "cat(var_dic_list()) "
    }
   },
   "types_to_exclude": [
    "module",
    "function",
    "builtin_function_or_method",
    "instance",
    "_Feature"
   ],
   "window_display": false
  }
 },
 "nbformat": 4,
 "nbformat_minor": 5
}
