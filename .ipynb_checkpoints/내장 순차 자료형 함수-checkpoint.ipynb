{
 "cells": [
  {
   "cell_type": "markdown",
   "id": "6a1733cd",
   "metadata": {},
   "source": [
    "### enumerate\n",
    "* 이 함수는 순차 자료형에서 현재 아이템의 색인을 함께 처리하고자 할 때 흔히 사용된다.\n",
    "\n",
    "\n",
    "* for i, value in enumerate(collection)\n",
    "\n",
    "\n",
    "* 데이터에 접근할 때 enumerate를 사용하는 유용한 패턴은 순차 자료형에서의 값과 그 위치를 dict에 넘겨주는 것이다.\n",
    "     "
   ]
  },
  {
   "cell_type": "code",
   "execution_count": 2,
   "id": "2aa29d05",
   "metadata": {
    "ExecuteTime": {
     "end_time": "2021-07-13T02:14:50.932492Z",
     "start_time": "2021-07-13T02:14:50.920525Z"
    }
   },
   "outputs": [
    {
     "data": {
      "text/plain": [
       "{'foo': 0, 'bar': 1, 'baz': 2}"
      ]
     },
     "execution_count": 2,
     "metadata": {},
     "output_type": "execute_result"
    }
   ],
   "source": [
    "some_list = ['foo', 'bar', 'baz']\n",
    "\n",
    "mapping = {}\n",
    "\n",
    "for i, v in enumerate(some_list):\n",
    "    mapping[v] = i\n",
    "\n",
    "mapping"
   ]
  },
  {
   "cell_type": "markdown",
   "id": "1eb4f486",
   "metadata": {},
   "source": [
    "### sorted\n",
    "* sorted 함수는 정렬된 새로운 순차 자료형을 반환한다."
   ]
  },
  {
   "cell_type": "code",
   "execution_count": 3,
   "id": "912371f3",
   "metadata": {
    "ExecuteTime": {
     "end_time": "2021-07-13T02:23:36.230324Z",
     "start_time": "2021-07-13T02:23:36.215390Z"
    }
   },
   "outputs": [
    {
     "data": {
      "text/plain": [
       "[0, 1, 2, 2, 3, 6, 7]"
      ]
     },
     "execution_count": 3,
     "metadata": {},
     "output_type": "execute_result"
    }
   ],
   "source": [
    "sorted([7, 1, 2, 6, 0, 3, 2])"
   ]
  },
  {
   "cell_type": "code",
   "execution_count": 4,
   "id": "521e2bb4",
   "metadata": {
    "ExecuteTime": {
     "end_time": "2021-07-13T02:23:52.308035Z",
     "start_time": "2021-07-13T02:23:52.303074Z"
    }
   },
   "outputs": [
    {
     "data": {
      "text/plain": [
       "[' ', 'a', 'c', 'e', 'e', 'h', 'o', 'r', 'r', 's']"
      ]
     },
     "execution_count": 4,
     "metadata": {},
     "output_type": "execute_result"
    }
   ],
   "source": [
    "sorted('horse race')"
   ]
  },
  {
   "cell_type": "markdown",
   "id": "df4d3365",
   "metadata": {},
   "source": [
    "### zip\n",
    "* zip 함수는 여러 개의 리스트나 튜플 또는 다른 순차 자료형을 서로 짝지어서 튜플의 리스트를 생성한다.\n",
    "\n",
    "\n",
    "* zip 함수는 여러 개의 순차 자료형을 받을 수 있으며, 반환되는 리스트의 크기는 넘겨받은 순차 자료형 중 가장 짧은 크기로 정해진다.\n",
    "\n",
    "\n",
    "* zip 함수의 아주 흔한 사용 예는 여러 개의 순차 자료형을 동시에 순화하는 경우인데, enumerate와 함께 사용"
   ]
  },
  {
   "cell_type": "code",
   "execution_count": 5,
   "id": "dcca8613",
   "metadata": {
    "ExecuteTime": {
     "end_time": "2021-07-13T02:25:21.078529Z",
     "start_time": "2021-07-13T02:25:21.071569Z"
    }
   },
   "outputs": [
    {
     "data": {
      "text/plain": [
       "[('foo', 'one'), ('bar', 'two'), ('baz', 'three')]"
      ]
     },
     "execution_count": 5,
     "metadata": {},
     "output_type": "execute_result"
    }
   ],
   "source": [
    "seq1 = ['foo', 'bar', 'baz']\n",
    "seq2 = ['one', 'two', 'three']\n",
    "\n",
    "zipped = zip(seq1, seq2)\n",
    "\n",
    "list(zipped)"
   ]
  },
  {
   "cell_type": "code",
   "execution_count": 6,
   "id": "b6affe24",
   "metadata": {
    "ExecuteTime": {
     "end_time": "2021-07-13T02:29:06.130226Z",
     "start_time": "2021-07-13T02:29:06.119255Z"
    }
   },
   "outputs": [
    {
     "name": "stdout",
     "output_type": "stream",
     "text": [
      "0: foo, one\n",
      "1: bar, two\n",
      "2: baz, three\n"
     ]
    }
   ],
   "source": [
    "for i, (a, b) in enumerate(zip(seq1, seq2)):\n",
    "    print('{0}: {1}, {2}'.format(i, a, b))"
   ]
  },
  {
   "cell_type": "markdown",
   "id": "f55499e4",
   "metadata": {},
   "source": [
    "### reversed\n",
    "* reversed는 순차 자료형을 역순으로 순회한다."
   ]
  },
  {
   "cell_type": "code",
   "execution_count": 7,
   "id": "21a0da3b",
   "metadata": {
    "ExecuteTime": {
     "end_time": "2021-07-13T02:29:56.310010Z",
     "start_time": "2021-07-13T02:29:56.304013Z"
    }
   },
   "outputs": [
    {
     "data": {
      "text/plain": [
       "[9, 8, 7, 6, 5, 4, 3, 2, 1, 0]"
      ]
     },
     "execution_count": 7,
     "metadata": {},
     "output_type": "execute_result"
    }
   ],
   "source": [
    "list(reversed(range(10)))"
   ]
  },
  {
   "cell_type": "code",
   "execution_count": null,
   "id": "680a3f6c",
   "metadata": {},
   "outputs": [],
   "source": []
  }
 ],
 "metadata": {
  "kernelspec": {
   "display_name": "Python 3",
   "language": "python",
   "name": "python3"
  },
  "language_info": {
   "codemirror_mode": {
    "name": "ipython",
    "version": 3
   },
   "file_extension": ".py",
   "mimetype": "text/x-python",
   "name": "python",
   "nbconvert_exporter": "python",
   "pygments_lexer": "ipython3",
   "version": "3.8.9"
  },
  "toc": {
   "base_numbering": 1,
   "nav_menu": {},
   "number_sections": true,
   "sideBar": true,
   "skip_h1_title": false,
   "title_cell": "Table of Contents",
   "title_sidebar": "Contents",
   "toc_cell": false,
   "toc_position": {},
   "toc_section_display": true,
   "toc_window_display": false
  },
  "varInspector": {
   "cols": {
    "lenName": 16,
    "lenType": 16,
    "lenVar": 40
   },
   "kernels_config": {
    "python": {
     "delete_cmd_postfix": "",
     "delete_cmd_prefix": "del ",
     "library": "var_list.py",
     "varRefreshCmd": "print(var_dic_list())"
    },
    "r": {
     "delete_cmd_postfix": ") ",
     "delete_cmd_prefix": "rm(",
     "library": "var_list.r",
     "varRefreshCmd": "cat(var_dic_list()) "
    }
   },
   "types_to_exclude": [
    "module",
    "function",
    "builtin_function_or_method",
    "instance",
    "_Feature"
   ],
   "window_display": false
  }
 },
 "nbformat": 4,
 "nbformat_minor": 5
}
