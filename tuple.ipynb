{
 "cells": [
  {
   "cell_type": "markdown",
   "id": "b5b1d1a8",
   "metadata": {
    "ExecuteTime": {
     "end_time": "2021-07-13T00:46:30.724045Z",
     "start_time": "2021-07-13T00:46:30.709083Z"
    }
   },
   "source": [
    "## 튜플\n",
    "* 튜플은 1차원의 고정된 크기를 가지는 변경 불가능한 순차 자료형\n",
    "\n",
    "\n",
    "* 튜플을 생성하는 가장 쉬운 방법은 쉼표로 구분된 값을 대입하는 것이다"
   ]
  },
  {
   "cell_type": "code",
   "execution_count": 32,
   "id": "c8d2934c",
   "metadata": {
    "ExecuteTime": {
     "end_time": "2021-07-13T01:05:39.822157Z",
     "start_time": "2021-07-13T01:05:39.812184Z"
    }
   },
   "outputs": [
    {
     "data": {
      "text/plain": [
       "(4, 5, 6)"
      ]
     },
     "execution_count": 32,
     "metadata": {},
     "output_type": "execute_result"
    }
   ],
   "source": [
    "# 튜플을 생성하는 가장 쉬운 방법 -> 쉼표로 구분된 값 대입\n",
    "tup = 4, 5, 6\n",
    "tup"
   ]
  },
  {
   "cell_type": "code",
   "execution_count": 33,
   "id": "7c2f4523",
   "metadata": {
    "ExecuteTime": {
     "end_time": "2021-07-13T01:06:41.573008Z",
     "start_time": "2021-07-13T01:06:41.564019Z"
    }
   },
   "outputs": [
    {
     "data": {
      "text/plain": [
       "((4, 5, 6), (7, 8))"
      ]
     },
     "execution_count": 33,
     "metadata": {},
     "output_type": "execute_result"
    }
   ],
   "source": [
    "# 괄호를 사용해서 값을 묶어줌으로써 중첩된 튜플을 정의할 수 있다.\n",
    "nested_tup = (4, 5, 6), (7, 8)\n",
    "nested_tup"
   ]
  },
  {
   "cell_type": "code",
   "execution_count": 34,
   "id": "e7087bde",
   "metadata": {
    "ExecuteTime": {
     "end_time": "2021-07-13T01:07:41.261054Z",
     "start_time": "2021-07-13T01:07:41.252078Z"
    }
   },
   "outputs": [
    {
     "data": {
      "text/plain": [
       "('s', 't', 'r', 'i', 'n', 'g')"
      ]
     },
     "execution_count": 34,
     "metadata": {},
     "output_type": "execute_result"
    }
   ],
   "source": [
    "# 모든 순차 자료형이나 이터레이터는 tuple 메서드를 호출해 튜플로 변환할 수 있다.\n",
    "tuple([4, 0, 2])\n",
    "\n",
    "tup = tuple('string')\n",
    "\n",
    "tup"
   ]
  },
  {
   "cell_type": "code",
   "execution_count": 35,
   "id": "b13de842",
   "metadata": {
    "ExecuteTime": {
     "end_time": "2021-07-13T01:07:54.394756Z",
     "start_time": "2021-07-13T01:07:54.379133Z"
    }
   },
   "outputs": [
    {
     "data": {
      "text/plain": [
       "'s'"
      ]
     },
     "execution_count": 35,
     "metadata": {},
     "output_type": "execute_result"
    }
   ],
   "source": [
    "# 튜플의 각 원소는 대괄호 []를 통해서 다른 순차 자료형처럼 접근할 수 있다.\n",
    "tup[0]"
   ]
  },
  {
   "cell_type": "code",
   "execution_count": 36,
   "id": "75689958",
   "metadata": {
    "ExecuteTime": {
     "end_time": "2021-07-13T01:09:29.963463Z",
     "start_time": "2021-07-13T01:09:29.947616Z"
    }
   },
   "outputs": [
    {
     "ename": "TypeError",
     "evalue": "'tuple' object does not support item assignment",
     "output_type": "error",
     "traceback": [
      "\u001b[1;31m---------------------------------------------------------------------------\u001b[0m",
      "\u001b[1;31mTypeError\u001b[0m                                 Traceback (most recent call last)",
      "\u001b[1;32m<ipython-input-36-7e8b4271067f>\u001b[0m in \u001b[0;36m<module>\u001b[1;34m\u001b[0m\n\u001b[0;32m      1\u001b[0m \u001b[1;31m# 튜플에 저장된 객체 자체는 변경이 가능하지만, 한 번 생성되면 각 슬롯에 저장된 객체를 변경하는 것은 불가능하다.\u001b[0m\u001b[1;33m\u001b[0m\u001b[1;33m\u001b[0m\u001b[1;33m\u001b[0m\u001b[0m\n\u001b[0;32m      2\u001b[0m \u001b[0mtup\u001b[0m \u001b[1;33m=\u001b[0m \u001b[0mtuple\u001b[0m\u001b[1;33m(\u001b[0m\u001b[1;33m[\u001b[0m\u001b[1;34m'foo'\u001b[0m\u001b[1;33m,\u001b[0m \u001b[1;33m[\u001b[0m\u001b[1;36m1\u001b[0m\u001b[1;33m,\u001b[0m \u001b[1;36m2\u001b[0m\u001b[1;33m]\u001b[0m\u001b[1;33m,\u001b[0m \u001b[1;32mTrue\u001b[0m\u001b[1;33m]\u001b[0m\u001b[1;33m)\u001b[0m\u001b[1;33m\u001b[0m\u001b[1;33m\u001b[0m\u001b[0m\n\u001b[1;32m----> 3\u001b[1;33m \u001b[0mtup\u001b[0m\u001b[1;33m[\u001b[0m\u001b[1;36m2\u001b[0m\u001b[1;33m]\u001b[0m \u001b[1;33m=\u001b[0m \u001b[1;32mFalse\u001b[0m\u001b[1;33m\u001b[0m\u001b[1;33m\u001b[0m\u001b[0m\n\u001b[0m",
      "\u001b[1;31mTypeError\u001b[0m: 'tuple' object does not support item assignment"
     ]
    }
   ],
   "source": [
    "# 튜플에 저장된 객체 자체는 변경이 가능하지만, 한 번 생성되면 각 슬롯에 저장된 객체를 변경하는 것은 불가능하다.\n",
    "tup = tuple(['foo', [1, 2], True])\n",
    "tup[2] = False"
   ]
  },
  {
   "cell_type": "code",
   "execution_count": 37,
   "id": "6c1562ad",
   "metadata": {
    "ExecuteTime": {
     "end_time": "2021-07-13T01:10:34.932790Z",
     "start_time": "2021-07-13T01:10:34.923790Z"
    }
   },
   "outputs": [
    {
     "data": {
      "text/plain": [
       "('foo', [1, 2, 3], True)"
      ]
     },
     "execution_count": 37,
     "metadata": {},
     "output_type": "execute_result"
    }
   ],
   "source": [
    "# 튜플 내에 저장된 객체는 그 위치에서 바로 변경이 가능하다.\n",
    "tup[1].append(3)\n",
    "tup"
   ]
  },
  {
   "cell_type": "code",
   "execution_count": 39,
   "id": "6108b935",
   "metadata": {
    "ExecuteTime": {
     "end_time": "2021-07-13T01:11:32.648637Z",
     "start_time": "2021-07-13T01:11:32.643674Z"
    }
   },
   "outputs": [
    {
     "data": {
      "text/plain": [
       "(4, None, 'foo', 6, 0, 'bar')"
      ]
     },
     "execution_count": 39,
     "metadata": {},
     "output_type": "execute_result"
    }
   ],
   "source": [
    "# + 연산자를 이용해서 튜플을 이어붙일 수 있다.\n",
    "tup_plus = (4, None, 'foo') + (6, 0) + ('bar',)\n",
    "tup_plus"
   ]
  },
  {
   "cell_type": "code",
   "execution_count": 40,
   "id": "c62cea08",
   "metadata": {
    "ExecuteTime": {
     "end_time": "2021-07-13T01:12:31.230966Z",
     "start_time": "2021-07-13T01:12:31.219972Z"
    }
   },
   "outputs": [
    {
     "data": {
      "text/plain": [
       "('foo', 'bar', 'foo', 'bar', 'foo', 'bar', 'foo', 'bar')"
      ]
     },
     "execution_count": 40,
     "metadata": {},
     "output_type": "execute_result"
    }
   ],
   "source": [
    "# 튜플에 정수를 곱하면 리스트와 마찬가지로 튜플의 복사본이 반복되어 늘어난다.\n",
    "tup_copy = ('foo', 'bar') * 4\n",
    "tup_copy"
   ]
  },
  {
   "cell_type": "markdown",
   "id": "4f7dc430",
   "metadata": {},
   "source": [
    "## 튜플에서 값 분리하기\n",
    "* 튜플과 같은 표현의 변수에 튜플을 대입하면 파이썬은 등호(=) 오른쪽에 있는 변수에서 값을 분리한다."
   ]
  },
  {
   "cell_type": "code",
   "execution_count": 44,
   "id": "1f4a8d41",
   "metadata": {
    "ExecuteTime": {
     "end_time": "2021-07-13T01:20:50.727823Z",
     "start_time": "2021-07-13T01:20:50.707440Z"
    }
   },
   "outputs": [
    {
     "data": {
      "text/plain": [
       "5"
      ]
     },
     "execution_count": 44,
     "metadata": {},
     "output_type": "execute_result"
    }
   ],
   "source": [
    "tup = (4, 5, 6)\n",
    "\n",
    "a, b, c = tup\n",
    "\n",
    "b"
   ]
  },
  {
   "cell_type": "code",
   "execution_count": 43,
   "id": "55fd54f1",
   "metadata": {
    "ExecuteTime": {
     "end_time": "2021-07-13T01:20:47.231604Z",
     "start_time": "2021-07-13T01:20:47.211658Z"
    }
   },
   "outputs": [
    {
     "data": {
      "text/plain": [
       "7"
      ]
     },
     "execution_count": 43,
     "metadata": {},
     "output_type": "execute_result"
    }
   ],
   "source": [
    "# 중첩된 튜플을 포함하는 순차 자료형에서도 값을 분리할 수 있다.\n",
    "tup = 4, 5, (6, 7)\n",
    "\n",
    "a, b, (c, d) = tup\n",
    "\n",
    "d"
   ]
  },
  {
   "cell_type": "markdown",
   "id": "90ec8fdc",
   "metadata": {},
   "source": [
    "## 튜플 메서드\n",
    "* 튜플의 크기나 내용은 변경 불가능하므로 튜플의 인스턴스 메서드가 많지 않다.\n",
    "\n",
    "\n",
    "* 유용하게 사용되는 메서드 중 하나는 주어진 값과 같은 값이 몇 개 있는지 반환하는 count 메서드다.(리스트에서도 사용가능)"
   ]
  },
  {
   "cell_type": "code",
   "execution_count": 45,
   "id": "02d9b2fd",
   "metadata": {
    "ExecuteTime": {
     "end_time": "2021-07-13T01:26:24.447084Z",
     "start_time": "2021-07-13T01:26:24.427123Z"
    }
   },
   "outputs": [
    {
     "data": {
      "text/plain": [
       "4"
      ]
     },
     "execution_count": 45,
     "metadata": {},
     "output_type": "execute_result"
    }
   ],
   "source": [
    "a = (1, 2, 2, 2, 3, 4, 2)\n",
    "a.count(2)"
   ]
  }
 ],
 "metadata": {
  "kernelspec": {
   "display_name": "Python 3",
   "language": "python",
   "name": "python3"
  },
  "language_info": {
   "codemirror_mode": {
    "name": "ipython",
    "version": 3
   },
   "file_extension": ".py",
   "mimetype": "text/x-python",
   "name": "python",
   "nbconvert_exporter": "python",
   "pygments_lexer": "ipython3",
   "version": "3.8.9"
  },
  "toc": {
   "base_numbering": 1,
   "nav_menu": {},
   "number_sections": true,
   "sideBar": true,
   "skip_h1_title": false,
   "title_cell": "Table of Contents",
   "title_sidebar": "Contents",
   "toc_cell": false,
   "toc_position": {
    "height": "calc(100% - 180px)",
    "left": "10px",
    "top": "150px",
    "width": "384px"
   },
   "toc_section_display": true,
   "toc_window_display": false
  },
  "varInspector": {
   "cols": {
    "lenName": 16,
    "lenType": 16,
    "lenVar": 40
   },
   "kernels_config": {
    "python": {
     "delete_cmd_postfix": "",
     "delete_cmd_prefix": "del ",
     "library": "var_list.py",
     "varRefreshCmd": "print(var_dic_list())"
    },
    "r": {
     "delete_cmd_postfix": ") ",
     "delete_cmd_prefix": "rm(",
     "library": "var_list.r",
     "varRefreshCmd": "cat(var_dic_list()) "
    }
   },
   "types_to_exclude": [
    "module",
    "function",
    "builtin_function_or_method",
    "instance",
    "_Feature"
   ],
   "window_display": false
  }
 },
 "nbformat": 4,
 "nbformat_minor": 5
}
