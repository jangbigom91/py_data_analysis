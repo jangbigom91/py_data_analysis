{
 "cells": [
  {
   "cell_type": "markdown",
   "id": "1ce8c177",
   "metadata": {},
   "source": [
    "## 함수\n",
    "* 함수는 파이썬에서 코드를 재사용하고 조직화하기 위한 가장 중요한 수단\n",
    "\n",
    "\n",
    "* 함수는 def 예약어로 정의하고 return 예약어를 사용해서 값을 반환한다.\n",
    "\n",
    "\n",
    "* 함수는 여러 개의 일반 인자와 키워드 인자를 받을 수 있다.\n",
    "\n",
    "\n",
    "* 밑의 함수에서 x와 y는 일반인자이며, 키워드 인자는 z이다."
   ]
  },
  {
   "cell_type": "code",
   "execution_count": 7,
   "id": "77c2fff8",
   "metadata": {
    "ExecuteTime": {
     "end_time": "2021-07-13T03:00:36.484611Z",
     "start_time": "2021-07-13T03:00:36.478650Z"
    }
   },
   "outputs": [
    {
     "data": {
      "text/plain": [
       "24"
      ]
     },
     "execution_count": 7,
     "metadata": {},
     "output_type": "execute_result"
    }
   ],
   "source": [
    "def my_func(x, y, z=1.5):\n",
    "    if z > 1:\n",
    "        return z * (x+y)\n",
    "    else:\n",
    "        return z / (x+y)\n",
    "\n",
    "# 함수 호출    \n",
    "my_func(4, 8, 2)"
   ]
  },
  {
   "cell_type": "markdown",
   "id": "cbec065f",
   "metadata": {},
   "source": [
    "## 전역, 지역함수\n",
    "* 함수는 전역과 지역, 두 가지 영역에서 변수를 참조한다."
   ]
  },
  {
   "cell_type": "code",
   "execution_count": 18,
   "id": "d364c87f",
   "metadata": {
    "ExecuteTime": {
     "end_time": "2021-07-13T03:15:18.966200Z",
     "start_time": "2021-07-13T03:15:18.961247Z"
    },
    "scrolled": true
   },
   "outputs": [],
   "source": [
    "# func() 함수를 호출하면 비어 있는 리스트 a가 생성되고 다섯개의 원소가 리스트에 추가된다. 그리고 함수가 끝나면 리스트 a는 사라진다.\n",
    "def func():\n",
    "    a = []\n",
    "    \n",
    "    for i in range(5):\n",
    "        a.append(i)"
   ]
  },
  {
   "cell_type": "code",
   "execution_count": 27,
   "id": "0e01b37b",
   "metadata": {
    "ExecuteTime": {
     "end_time": "2021-07-13T04:39:57.309986Z",
     "start_time": "2021-07-13T04:39:57.296032Z"
    }
   },
   "outputs": [],
   "source": [
    "# 하지만 리스트 a를 다음과 같이 선언\n",
    "a = []\n",
    "\n",
    "def func():\n",
    "    for i in range(5):\n",
    "        a.append(i)\n"
   ]
  },
  {
   "cell_type": "code",
   "execution_count": 28,
   "id": "0bb75a97",
   "metadata": {
    "ExecuteTime": {
     "end_time": "2021-07-13T04:40:57.597793Z",
     "start_time": "2021-07-13T04:40:57.582808Z"
    }
   },
   "outputs": [
    {
     "name": "stdout",
     "output_type": "stream",
     "text": [
      "[]\n"
     ]
    }
   ],
   "source": [
    "# 함수의 스코프 밖에서 변수에 값을 대입하려면 그 변수를 global 예약어를 이용해서 전역 변수로 선언해야 한다.\n",
    "a = None\n",
    "\n",
    "def bind_a_variable():\n",
    "    global a\n",
    "    a = []\n",
    "    \n",
    "bind_a_variable()\n",
    "\n",
    "print(a)"
   ]
  },
  {
   "cell_type": "markdown",
   "id": "46bee617",
   "metadata": {},
   "source": [
    "## 여러 값 반환하기\n"
   ]
  },
  {
   "cell_type": "code",
   "execution_count": 29,
   "id": "95c65e53",
   "metadata": {
    "ExecuteTime": {
     "end_time": "2021-07-13T04:46:16.141868Z",
     "start_time": "2021-07-13T04:46:16.126909Z"
    }
   },
   "outputs": [],
   "source": [
    "def f():\n",
    "    a = 5\n",
    "    b = 6\n",
    "    c = 7\n",
    "    \n",
    "    return a, b, c\n",
    "\n",
    "a, b, c = f()"
   ]
  },
  {
   "cell_type": "markdown",
   "id": "f8bcc37d",
   "metadata": {},
   "source": [
    "## 함수도 객체다\n",
    "* 파이썬에서는 함수도 객체이므로, 다른 언어에서는 힘든 객체 생성 표현을 쉽게 할 수 있다."
   ]
  },
  {
   "cell_type": "code",
   "execution_count": 30,
   "id": "0a17fb37",
   "metadata": {
    "ExecuteTime": {
     "end_time": "2021-07-13T04:50:46.895241Z",
     "start_time": "2021-07-13T04:50:46.886261Z"
    }
   },
   "outputs": [],
   "source": [
    "# 데이터를 정제하기 위해 다음과 같은 문자열 리스트를 변형해야 한다고 가정\n",
    "states = ['Alabama', 'Georgia!', 'Georgia', 'georgia', 'flOrIda', 'southcarolina##', 'West virginia?']"
   ]
  },
  {
   "cell_type": "code",
   "execution_count": 31,
   "id": "5ee29b00",
   "metadata": {
    "ExecuteTime": {
     "end_time": "2021-07-13T04:52:42.248269Z",
     "start_time": "2021-07-13T04:52:42.238295Z"
    }
   },
   "outputs": [
    {
     "data": {
      "text/plain": [
       "['Alabama',\n",
       " 'Georgia',\n",
       " 'Georgia',\n",
       " 'Georgia',\n",
       " 'Florida',\n",
       " 'Southcarolina',\n",
       " 'West Virginia']"
      ]
     },
     "execution_count": 31,
     "metadata": {},
     "output_type": "execute_result"
    }
   ],
   "source": [
    "# 필요없는 문장 부호를 제거하거나 대소문자를 맞추는 등의 작업이 필요\n",
    "# 내장 문자열 메서드와 정규표현식을 위한 re 표준 라이브러리를 이용해서 해결\n",
    "import re\n",
    "\n",
    "def clean_strings(strings):\n",
    "    result = []\n",
    "    \n",
    "    for value in strings:\n",
    "        value = value.strip()\n",
    "        value = re.sub('[!#?]', '', value)\n",
    "        value = value.title()\n",
    "        \n",
    "        result.append(value)\n",
    "        \n",
    "    return result\n",
    "\n",
    "clean_strings(states)"
   ]
  },
  {
   "cell_type": "markdown",
   "id": "0fd29eab",
   "metadata": {},
   "source": [
    "## 람다함수(익명함수)\n",
    "* 파이썬은 익명함수 또는 람다함수라고 하는 값을 반환하는 단순한 한 문장으로 이루어진 함수를 지원한다.\n",
    "\n",
    "\n",
    "* lambda 예약어로 정의하며, 람다함수는 데이터 분석에 편리"
   ]
  },
  {
   "cell_type": "code",
   "execution_count": 32,
   "id": "4a65371c",
   "metadata": {
    "ExecuteTime": {
     "end_time": "2021-07-13T05:01:14.016695Z",
     "start_time": "2021-07-13T05:01:14.005720Z"
    }
   },
   "outputs": [
    {
     "data": {
      "text/plain": [
       "[8, 0, 2, 10, 12]"
      ]
     },
     "execution_count": 32,
     "metadata": {},
     "output_type": "execute_result"
    }
   ],
   "source": [
    "def apply_to_list(some_list, f):\n",
    "    return [f(x) for x in some_list]\n",
    "\n",
    "ints = [4, 0, 1, 5, 6]\n",
    "\n",
    "apply_to_list(ints, lambda x : x * 2)"
   ]
  },
  {
   "cell_type": "code",
   "execution_count": 33,
   "id": "de7c983a",
   "metadata": {
    "ExecuteTime": {
     "end_time": "2021-07-13T05:02:46.798789Z",
     "start_time": "2021-07-13T05:02:46.781860Z"
    }
   },
   "outputs": [],
   "source": [
    "# 문자열 리스트를 각 문자열에서 다양한 문자가 포함된 순서로 정렬한다고 가정\n",
    "strings = ['foo', 'card', 'bar', 'aaaa', 'abab']"
   ]
  },
  {
   "cell_type": "code",
   "execution_count": 34,
   "id": "31918a17",
   "metadata": {
    "ExecuteTime": {
     "end_time": "2021-07-13T05:03:16.324491Z",
     "start_time": "2021-07-13T05:03:16.309533Z"
    }
   },
   "outputs": [
    {
     "data": {
      "text/plain": [
       "['aaaa', 'foo', 'abab', 'bar', 'card']"
      ]
     },
     "execution_count": 34,
     "metadata": {},
     "output_type": "execute_result"
    }
   ],
   "source": [
    "strings.sort(key=lambda x : len(set(list(x))))\n",
    "\n",
    "strings"
   ]
  },
  {
   "cell_type": "code",
   "execution_count": null,
   "id": "4f2ad86b",
   "metadata": {},
   "outputs": [],
   "source": []
  }
 ],
 "metadata": {
  "kernelspec": {
   "display_name": "Python 3",
   "language": "python",
   "name": "python3"
  },
  "language_info": {
   "codemirror_mode": {
    "name": "ipython",
    "version": 3
   },
   "file_extension": ".py",
   "mimetype": "text/x-python",
   "name": "python",
   "nbconvert_exporter": "python",
   "pygments_lexer": "ipython3",
   "version": "3.8.9"
  },
  "toc": {
   "base_numbering": 1,
   "nav_menu": {},
   "number_sections": true,
   "sideBar": true,
   "skip_h1_title": false,
   "title_cell": "Table of Contents",
   "title_sidebar": "Contents",
   "toc_cell": false,
   "toc_position": {},
   "toc_section_display": true,
   "toc_window_display": false
  },
  "varInspector": {
   "cols": {
    "lenName": 16,
    "lenType": 16,
    "lenVar": 40
   },
   "kernels_config": {
    "python": {
     "delete_cmd_postfix": "",
     "delete_cmd_prefix": "del ",
     "library": "var_list.py",
     "varRefreshCmd": "print(var_dic_list())"
    },
    "r": {
     "delete_cmd_postfix": ") ",
     "delete_cmd_prefix": "rm(",
     "library": "var_list.r",
     "varRefreshCmd": "cat(var_dic_list()) "
    }
   },
   "types_to_exclude": [
    "module",
    "function",
    "builtin_function_or_method",
    "instance",
    "_Feature"
   ],
   "window_display": false
  }
 },
 "nbformat": 4,
 "nbformat_minor": 5
}
