{
 "cells": [
  {
   "cell_type": "markdown",
   "id": "31c13de4",
   "metadata": {},
   "source": [
    "## 리스트\n",
    "* 튜플과는 대조적으로 리스트는 크기나 내용의 변경이 가능하다.\n",
    "\n",
    "\n",
    "* 리스트는 대괄호 [] 나 list 함수를 사용해서 생성할 수 있다."
   ]
  },
  {
   "cell_type": "code",
   "execution_count": 1,
   "id": "101ed2b4",
   "metadata": {
    "ExecuteTime": {
     "end_time": "2021-07-13T01:31:36.440265Z",
     "start_time": "2021-07-13T01:31:36.428297Z"
    }
   },
   "outputs": [
    {
     "data": {
      "text/plain": [
       "['foo', 'bar', 'baz']"
      ]
     },
     "execution_count": 1,
     "metadata": {},
     "output_type": "execute_result"
    }
   ],
   "source": [
    "a_list = [2, 3, 7, None]\n",
    "\n",
    "tup = ('foo', 'bar', 'baz')\n",
    "\n",
    "b_list = list(tup)\n",
    "\n",
    "b_list"
   ]
  },
  {
   "cell_type": "code",
   "execution_count": 2,
   "id": "d989b58e",
   "metadata": {
    "ExecuteTime": {
     "end_time": "2021-07-13T01:31:54.914758Z",
     "start_time": "2021-07-13T01:31:54.906779Z"
    }
   },
   "outputs": [
    {
     "data": {
      "text/plain": [
       "['foo', 'peekaboo', 'baz']"
      ]
     },
     "execution_count": 2,
     "metadata": {},
     "output_type": "execute_result"
    }
   ],
   "source": [
    "# 리스트는 내용 변경이 가능하다.\n",
    "b_list[1] = 'peekaboo'\n",
    "b_list"
   ]
  },
  {
   "cell_type": "code",
   "execution_count": 3,
   "id": "27b722ac",
   "metadata": {
    "ExecuteTime": {
     "end_time": "2021-07-13T01:32:55.383137Z",
     "start_time": "2021-07-13T01:32:55.371166Z"
    }
   },
   "outputs": [
    {
     "data": {
      "text/plain": [
       "[0, 1, 2, 3, 4, 5, 6, 7, 8, 9]"
      ]
     },
     "execution_count": 3,
     "metadata": {},
     "output_type": "execute_result"
    }
   ],
   "source": [
    "gen = range(10)\n",
    "\n",
    "list(gen)"
   ]
  },
  {
   "cell_type": "markdown",
   "id": "72b8dcea",
   "metadata": {},
   "source": [
    "## 원소 추가하고 삭제하기\n",
    "* append 메서드를 사용해서 리스트의 끝에 새로운 값을 추가할 수 있다.\n",
    "\n",
    "\n",
    "* insert 메서드를 사용해서 리스트의 특정 위치에 값을 추가할 수 있다.(값을 추가하려는 위치는 0부터 리스트 길이까지의 값이어야 한다.)\n",
    "\n",
    "\n",
    "* insert 메서드와 반대개념으로 pop 메서드가 있다. pop 메서드는 특정 위치의 값을 반환하고 해당 값을 리스트에서 삭제한다.\n",
    "\n",
    "\n",
    "* remove 메서드를 이용해서 값을 삭제할 수도 있지만, remove는 리스트에서 제일 앞에 위치한 값부터 이루어진다.\n",
    "\n",
    "\n",
    "* in 예약어를 사용해서 리스트에 어떤 값이 있는지 검사할 수 있다."
   ]
  },
  {
   "cell_type": "code",
   "execution_count": 4,
   "id": "5cfddb96",
   "metadata": {
    "ExecuteTime": {
     "end_time": "2021-07-13T01:39:16.764117Z",
     "start_time": "2021-07-13T01:39:16.746184Z"
    }
   },
   "outputs": [
    {
     "data": {
      "text/plain": [
       "['foo', 'peekaboo', 'baz', 'dwarf']"
      ]
     },
     "execution_count": 4,
     "metadata": {},
     "output_type": "execute_result"
    }
   ],
   "source": [
    "b_list.append('dwarf')\n",
    "b_list"
   ]
  },
  {
   "cell_type": "code",
   "execution_count": 5,
   "id": "3cda9b3c",
   "metadata": {
    "ExecuteTime": {
     "end_time": "2021-07-13T01:43:11.023957Z",
     "start_time": "2021-07-13T01:43:11.017997Z"
    }
   },
   "outputs": [
    {
     "data": {
      "text/plain": [
       "['foo', 'red', 'peekaboo', 'baz', 'dwarf']"
      ]
     },
     "execution_count": 5,
     "metadata": {},
     "output_type": "execute_result"
    }
   ],
   "source": [
    "# 값을 추가하려는 위치는 0부터 리스트 길이까지의 값이어야 한다.\n",
    "b_list.insert(1, 'red')\n",
    "b_list"
   ]
  },
  {
   "cell_type": "code",
   "execution_count": 6,
   "id": "310646b6",
   "metadata": {
    "ExecuteTime": {
     "end_time": "2021-07-13T01:44:48.793015Z",
     "start_time": "2021-07-13T01:44:48.786033Z"
    }
   },
   "outputs": [
    {
     "data": {
      "text/plain": [
       "'peekaboo'"
      ]
     },
     "execution_count": 6,
     "metadata": {},
     "output_type": "execute_result"
    }
   ],
   "source": [
    "# pop 메서드를 이용해서 리스트에서 값을 삭제\n",
    "b_list.pop(2) # index 2번째인 'peekaboo' 값을 삭제"
   ]
  },
  {
   "cell_type": "code",
   "execution_count": 12,
   "id": "d3d3a61b",
   "metadata": {
    "ExecuteTime": {
     "end_time": "2021-07-13T01:47:28.224662Z",
     "start_time": "2021-07-13T01:47:28.217704Z"
    }
   },
   "outputs": [
    {
     "data": {
      "text/plain": [
       "['red', 'baz', 'dwarf', 'foo']"
      ]
     },
     "execution_count": 12,
     "metadata": {},
     "output_type": "execute_result"
    }
   ],
   "source": [
    "b_list"
   ]
  },
  {
   "cell_type": "code",
   "execution_count": 14,
   "id": "18104468",
   "metadata": {
    "ExecuteTime": {
     "end_time": "2021-07-13T01:48:05.915426Z",
     "start_time": "2021-07-13T01:48:05.905474Z"
    }
   },
   "outputs": [
    {
     "data": {
      "text/plain": [
       "['foo', 'baz', 'dwarf', 'red', 'foo']"
      ]
     },
     "execution_count": 14,
     "metadata": {},
     "output_type": "execute_result"
    }
   ],
   "source": [
    "# remove 메서드를 이용해서 값을 삭제할 수도 있지만, remove는 리스트에서 제일 앞에 위치한 값부터 이루어진다.\n",
    "b_list = ['foo', 'baz', 'dwarf', 'red']\n",
    "b_list.append('foo')\n",
    "b_list"
   ]
  },
  {
   "cell_type": "code",
   "execution_count": 15,
   "id": "14f5be2a",
   "metadata": {
    "ExecuteTime": {
     "end_time": "2021-07-13T01:48:08.414185Z",
     "start_time": "2021-07-13T01:48:08.409954Z"
    }
   },
   "outputs": [
    {
     "data": {
      "text/plain": [
       "['baz', 'dwarf', 'red', 'foo']"
      ]
     },
     "execution_count": 15,
     "metadata": {},
     "output_type": "execute_result"
    }
   ],
   "source": [
    "b_list.remove('foo') # 'foo' 값이 두개있더라고 remove메서드는 앞에 위치한 값부터 삭제가 이루어진다.\n",
    "b_list"
   ]
  },
  {
   "cell_type": "code",
   "execution_count": 16,
   "id": "018dc89b",
   "metadata": {
    "ExecuteTime": {
     "end_time": "2021-07-13T01:51:34.860432Z",
     "start_time": "2021-07-13T01:51:34.849435Z"
    }
   },
   "outputs": [
    {
     "data": {
      "text/plain": [
       "True"
      ]
     },
     "execution_count": 16,
     "metadata": {},
     "output_type": "execute_result"
    }
   ],
   "source": [
    "'dwarf' in b_list"
   ]
  },
  {
   "cell_type": "code",
   "execution_count": 17,
   "id": "e93b7e7a",
   "metadata": {
    "ExecuteTime": {
     "end_time": "2021-07-13T01:51:53.203348Z",
     "start_time": "2021-07-13T01:51:53.193376Z"
    }
   },
   "outputs": [
    {
     "data": {
      "text/plain": [
       "False"
      ]
     },
     "execution_count": 17,
     "metadata": {},
     "output_type": "execute_result"
    }
   ],
   "source": [
    "'dwarf' not in b_list"
   ]
  },
  {
   "cell_type": "markdown",
   "id": "bdbeb35a",
   "metadata": {},
   "source": [
    "## 리스트 이어붙이기\n",
    "* 튜플과 마찬가지로 + 연산자를 이용하면 두 개의 리스트를 합칠 수 있다.\n",
    "\n",
    "\n",
    "* 리스트를 미리 정의해두었다면 extend 메서드를 사용해서 여러 개의 값을 추가할 수 있다."
   ]
  },
  {
   "cell_type": "code",
   "execution_count": 18,
   "id": "9977c370",
   "metadata": {
    "ExecuteTime": {
     "end_time": "2021-07-13T01:56:38.851213Z",
     "start_time": "2021-07-13T01:56:38.841212Z"
    }
   },
   "outputs": [
    {
     "data": {
      "text/plain": [
       "[4, None, 'foo', 7, 8, (2, 3)]"
      ]
     },
     "execution_count": 18,
     "metadata": {},
     "output_type": "execute_result"
    }
   ],
   "source": [
    "[4, None, 'foo'] + [7, 8, (2, 3)]"
   ]
  },
  {
   "cell_type": "code",
   "execution_count": 19,
   "id": "6a957512",
   "metadata": {
    "ExecuteTime": {
     "end_time": "2021-07-13T01:57:35.338149Z",
     "start_time": "2021-07-13T01:57:35.321222Z"
    }
   },
   "outputs": [
    {
     "data": {
      "text/plain": [
       "[4, None, 'foo', 7, 8, (2, 3)]"
      ]
     },
     "execution_count": 19,
     "metadata": {},
     "output_type": "execute_result"
    }
   ],
   "source": [
    "x = [4, None, 'foo']\n",
    "\n",
    "x.extend([7, 8, (2, 3)]) # extend 메서드를 통해서 값 추가 가능, but 리스트가 미리 정의되어야 함\n",
    "\n",
    "x"
   ]
  },
  {
   "cell_type": "markdown",
   "id": "5c5dcb98",
   "metadata": {},
   "source": [
    "## 정렬\n",
    "* sort 함수를 이용해서 새로운 리스트를 생성하지 않고, 있는 그대로 리스트를 정렬할 수 있다.\n",
    "\n",
    "\n",
    "* sort 옵션 -> 정렬 기준으로 사용할 값을 반환하는 함수, 문자열이 들어있는 리스트를 문자열의 길이 순으로 정렬 가능"
   ]
  },
  {
   "cell_type": "code",
   "execution_count": 21,
   "id": "89c50f46",
   "metadata": {
    "ExecuteTime": {
     "end_time": "2021-07-13T01:59:33.194991Z",
     "start_time": "2021-07-13T01:59:33.185019Z"
    }
   },
   "outputs": [
    {
     "data": {
      "text/plain": [
       "[1, 2, 3, 5, 7]"
      ]
     },
     "execution_count": 21,
     "metadata": {},
     "output_type": "execute_result"
    }
   ],
   "source": [
    "a = [7, 2, 5, 1, 3]\n",
    "\n",
    "a.sort()\n",
    "\n",
    "a"
   ]
  },
  {
   "cell_type": "code",
   "execution_count": 22,
   "id": "123ce7f4",
   "metadata": {
    "ExecuteTime": {
     "end_time": "2021-07-13T02:01:11.219995Z",
     "start_time": "2021-07-13T02:01:11.201045Z"
    }
   },
   "outputs": [
    {
     "data": {
      "text/plain": [
       "['He', 'saw', 'six', 'small', 'foxes']"
      ]
     },
     "execution_count": 22,
     "metadata": {},
     "output_type": "execute_result"
    }
   ],
   "source": [
    "b = ['saw', 'small', 'He', 'foxes', 'six']\n",
    "\n",
    "b.sort(key=len) # 문자열이 들어있는 리스트를 문자열의 길이 순으로 정렬 가능\n",
    "\n",
    "b"
   ]
  },
  {
   "cell_type": "markdown",
   "id": "f0a14de0",
   "metadata": {},
   "source": [
    "## 슬라이싱\n",
    "* 리스트와 같은 자료형은 색인 연산자 [] 안에 start:stop을 지정해서 원하는 크기만큼 잘라낼 수 있다.\n",
    "\n",
    "\n",
    "* 색인의 시작(start) 위치에 있는 값은 포함되지만, 끝(stop) 위치에 있는 값은 포함되지 않는다. 따라서 슬라이싱 결과의 개수는 stop - start이다.\n",
    "\n",
    "\n",
    "* 색인의 시작(start)값이나 끝(stop)값은 생략할 수 있는데, 이 경우 생략된 값은 각각 순차자료형의 처음 혹은 마지막 값이 된다.\n",
    "\n",
    "\n",
    "* 음수 색인은 순차 자료형의 끝에서부터의 위치를 나타낸다."
   ]
  },
  {
   "cell_type": "code",
   "execution_count": 23,
   "id": "86a9b6db",
   "metadata": {
    "ExecuteTime": {
     "end_time": "2021-07-13T02:03:24.360005Z",
     "start_time": "2021-07-13T02:03:24.352992Z"
    }
   },
   "outputs": [
    {
     "data": {
      "text/plain": [
       "[2, 3, 7, 5]"
      ]
     },
     "execution_count": 23,
     "metadata": {},
     "output_type": "execute_result"
    }
   ],
   "source": [
    "seq = [7, 2, 3, 7, 5, 6, 0, 1]\n",
    "\n",
    "seq[1:5]"
   ]
  },
  {
   "cell_type": "code",
   "execution_count": 24,
   "id": "222ab9ae",
   "metadata": {
    "ExecuteTime": {
     "end_time": "2021-07-13T02:06:23.423338Z",
     "start_time": "2021-07-13T02:06:23.417380Z"
    }
   },
   "outputs": [
    {
     "data": {
      "text/plain": [
       "[7, 2, 3, 6, 3, 5, 6, 0, 1]"
      ]
     },
     "execution_count": 24,
     "metadata": {},
     "output_type": "execute_result"
    }
   ],
   "source": [
    "# 슬라이스에 다른 순차 자료형을 대입하는 것도 가능하다.\n",
    "seq[3:4] = [6, 3]\n",
    "seq"
   ]
  },
  {
   "cell_type": "code",
   "execution_count": 25,
   "id": "113906ac",
   "metadata": {
    "ExecuteTime": {
     "end_time": "2021-07-13T02:06:54.683536Z",
     "start_time": "2021-07-13T02:06:54.664609Z"
    }
   },
   "outputs": [
    {
     "data": {
      "text/plain": [
       "[7, 2, 3, 6, 3]"
      ]
     },
     "execution_count": 25,
     "metadata": {},
     "output_type": "execute_result"
    }
   ],
   "source": [
    "# 색인의 시작(start)값이나 끝(stop)값은 생략할 수 있는데, 이 경우 생략된 값은 각각 순차자료형의 처음 혹은 마지막 값이 된다.\n",
    "seq[:5]"
   ]
  },
  {
   "cell_type": "code",
   "execution_count": 26,
   "id": "cc61dc9c",
   "metadata": {
    "ExecuteTime": {
     "end_time": "2021-07-13T02:07:01.064312Z",
     "start_time": "2021-07-13T02:07:01.047616Z"
    }
   },
   "outputs": [
    {
     "data": {
      "text/plain": [
       "[6, 3, 5, 6, 0, 1]"
      ]
     },
     "execution_count": 26,
     "metadata": {},
     "output_type": "execute_result"
    }
   ],
   "source": [
    "seq[3:]"
   ]
  },
  {
   "cell_type": "code",
   "execution_count": 27,
   "id": "6d94d6ca",
   "metadata": {
    "ExecuteTime": {
     "end_time": "2021-07-13T02:08:25.634295Z",
     "start_time": "2021-07-13T02:08:25.625320Z"
    }
   },
   "outputs": [
    {
     "data": {
      "text/plain": [
       "[5, 6, 0, 1]"
      ]
     },
     "execution_count": 27,
     "metadata": {},
     "output_type": "execute_result"
    }
   ],
   "source": [
    "# 음수 색인은 순차 자료형의 끝에서부터의 위치를 나타낸다.\n",
    "seq[-4:]"
   ]
  },
  {
   "cell_type": "code",
   "execution_count": 28,
   "id": "0bf911b7",
   "metadata": {
    "ExecuteTime": {
     "end_time": "2021-07-13T02:08:30.643854Z",
     "start_time": "2021-07-13T02:08:30.624900Z"
    }
   },
   "outputs": [
    {
     "data": {
      "text/plain": [
       "[6, 3, 5, 6]"
      ]
     },
     "execution_count": 28,
     "metadata": {},
     "output_type": "execute_result"
    }
   ],
   "source": [
    "seq[-6:-2]"
   ]
  },
  {
   "cell_type": "code",
   "execution_count": null,
   "id": "f9954af4",
   "metadata": {},
   "outputs": [],
   "source": []
  }
 ],
 "metadata": {
  "kernelspec": {
   "display_name": "Python 3",
   "language": "python",
   "name": "python3"
  },
  "language_info": {
   "codemirror_mode": {
    "name": "ipython",
    "version": 3
   },
   "file_extension": ".py",
   "mimetype": "text/x-python",
   "name": "python",
   "nbconvert_exporter": "python",
   "pygments_lexer": "ipython3",
   "version": "3.8.9"
  },
  "toc": {
   "base_numbering": 1,
   "nav_menu": {},
   "number_sections": true,
   "sideBar": true,
   "skip_h1_title": false,
   "title_cell": "Table of Contents",
   "title_sidebar": "Contents",
   "toc_cell": false,
   "toc_position": {},
   "toc_section_display": true,
   "toc_window_display": false
  },
  "varInspector": {
   "cols": {
    "lenName": 16,
    "lenType": 16,
    "lenVar": 40
   },
   "kernels_config": {
    "python": {
     "delete_cmd_postfix": "",
     "delete_cmd_prefix": "del ",
     "library": "var_list.py",
     "varRefreshCmd": "print(var_dic_list())"
    },
    "r": {
     "delete_cmd_postfix": ") ",
     "delete_cmd_prefix": "rm(",
     "library": "var_list.r",
     "varRefreshCmd": "cat(var_dic_list()) "
    }
   },
   "types_to_exclude": [
    "module",
    "function",
    "builtin_function_or_method",
    "instance",
    "_Feature"
   ],
   "window_display": false
  }
 },
 "nbformat": 4,
 "nbformat_minor": 5
}
